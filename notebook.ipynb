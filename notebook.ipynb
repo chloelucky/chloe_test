{
 "cells": [
  {
   "cell_type": "code",
   "execution_count": null,
   "metadata": {},
   "outputs": [],
   "source": [
    "import requests\n",
    "from langchain.document_loaders import TextLoader\n",
    "from langchain.text_splitter import CharacterTextSplitter\n",
    "from langchain.embeddings.openai import OpenAIEmbeddings\n",
    "from langchain.vectorstores import FAISS\n",
    "from langchain.chains import RetrievalQA\n",
    "from langchain.chains.combine_documents.stuff import StuffDocumentsChain\n",
    "from langchain.llms import OpenAI\n",
    "from langchain.memory import ConversationBufferMemory\n",
    "from langchain.docstore.document import Document\n",
    "from langchain.prompts import PromptTemplate\n",
    "from langchain.chains import LLMChain\n",
    "\n",
    "url = \"https://gist.githubusercontent.com/serranoarevalo/5acf755c2b8d83f1707ef266b82ea223/raw/d72b9558a11523adbe13300b41321ecd93d331d3/document.txt\"\n",
    "response = requests.get(url)\n",
    "response.raise_for_status()\n",
    "text = response.text\n",
    "\n",
    "document = Document(page_content=text, metadata={\"source\": url})\n",
    "\n",
    "text_splitter = CharacterTextSplitter(chunk_size=1000, chunk_overlap=0)\n",
    "docs = text_splitter.split_documents([document])\n",
    "\n",
    "embeddings = OpenAIEmbeddings(model=\"text-embedding-ada-002\")\n",
    "vectorstore = FAISS.from_documents(docs, embeddings)\n",
    "\n",
    "retriever = vectorstore.as_retriever()\n",
    "\n",
    "memory = ConversationBufferMemory(memory_key=\"chat_history\", return_messages=True)\n",
    "\n",
    "llm = OpenAI(model_name=\"gpt-4o-mini-2024-07-18\", temperature=0.1)\n",
    "prompt = PromptTemplate(template=\"Use the following documents to answer the question: {documents}\\nQuestion: {question}\\nAnswer:\", input_variables=[\"documents\", \"question\"])\n",
    "\n",
    "llm_chain = LLMChain(llm=llm, prompt=prompt)\n",
    "\n",
    "stuff_chain = StuffDocumentsChain(llm_chain=llm_chain, document_variable_name=\"documents\")\n",
    "\n",
    "qa_chain = RetrievalQA(retriever=retriever, combine_documents_chain=stuff_chain, memory=memory)\n",
    "\n",
    "questions = [\n",
    "    \"Is Aaronson guilty?\",\n",
    "    \"What message did he write in the table?\",\n",
    "    \"Who is Julia?\"\n",
    "]\n",
    "\n",
    "for question in questions:\n",
    "    result = qa_chain.run(question)\n",
    "    print(f\"Q: {question}\\nA: {result}\\n\")\n",
    "\n",
    "print(\"\\nConversation History:\")\n",
    "print(memory.chat_history)"
   ]
  }
 ],
 "metadata": {
  "kernelspec": {
   "display_name": "MHAInstaller",
   "language": "python",
   "name": "python3"
  },
  "language_info": {
   "codemirror_mode": {
    "name": "ipython",
    "version": 3
   },
   "file_extension": ".py",
   "mimetype": "text/x-python",
   "name": "python",
   "nbconvert_exporter": "python",
   "pygments_lexer": "ipython3",
   "version": "3.11.6"
  }
 },
 "nbformat": 4,
 "nbformat_minor": 2
}
