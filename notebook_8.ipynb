{
 "cells": [
  {
   "cell_type": "code",
   "execution_count": 11,
   "metadata": {},
   "outputs": [
    {
     "name": "stdout",
     "output_type": "stream",
     "text": [
      "\u001b[32;1m\u001b[1;3m[llm/start]\u001b[0m \u001b[1m[1:llm:ChatOpenAI] Entering LLM run with input:\n",
      "\u001b[0m{\n",
      "  \"prompts\": [\n",
      "    \"Human: How do you make italian pasta\"\n",
      "  ]\n",
      "}\n",
      "\u001b[36;1m\u001b[1;3m[llm/end]\u001b[0m \u001b[1m[1:llm:ChatOpenAI] [19.84s] Exiting LLM run with output:\n",
      "\u001b[0m{\n",
      "  \"generations\": [\n",
      "    [\n",
      "      {\n",
      "        \"text\": \"Making Italian pasta from scratch is a rewarding process! Here’s a simple recipe for fresh pasta:\\n\\n### Ingredients:\\n- 2 cups all-purpose flour (or \\\"00\\\" flour for a more authentic texture)\\n- 3 large eggs\\n- A pinch of salt\\n- A little water (if needed)\\n\\n### Instructions:\\n\\n#### 1. Prepare the Dough:\\n- **Make a Flour Well**: On a clean surface or in a large bowl, mound the flour and make a well in the center. Add a pinch of salt.\\n- **Add Eggs**: Crack the eggs into the well. Using a fork, beat the eggs gently, then gradually incorporate the flour from the edges of the well until the mixture is too stiff to mix with a fork.\\n  \\n#### 2. Knead the Dough:\\n- **Bring Together**: Use your hands to bring the dough together. If it’s too dry, add a little water; if it’s too sticky, sprinkle with a bit more flour.\\n- **Knead**: Knead the dough for about 8-10 minutes until it’s smooth and elastic. Wrap it in plastic wrap and let it rest for at least 30 minutes at room temperature.\\n\\n#### 3. Roll Out the Dough:\\n- **Divide the Dough**: Cut the rested dough into four pieces. Keep the pieces you’re not using covered to prevent them from drying out.\\n- **Flatten and Roll**: Using a rolling pin or a pasta machine, roll out one piece of dough at a time to your desired thickness (usually about 1/16 inch for thin pasta). Dust with flour as needed to prevent sticking.\\n\\n#### 4. Cut the Pasta:\\n- **Shape the Pasta**: You can cut the rolled-out dough into various shapes:\\n  - **Tagliatelle**: Roll the sheet loosely and slice it into strips.\\n  - **Fettuccine**: Cut into wider strips.\\n  - **Lasagna**: Cut into rectangles.\\n  - **Pappardelle**: Cut into wider, thicker strips.\\n  \\n#### 5. Cook the Pasta:\\n- **Boil Water**: Bring a large pot of salted water to a boil.\\n- **Cook**: Add the fresh pasta and cook for 2-4 minutes, depending on the thickness. Fresh pasta cooks much faster than dried pasta.\\n- **Taste Test**: Check for doneness; it should be al dente.\\n\\n#### 6. Serve:\\n- Drain the pasta and toss it with your favorite sauce, olive oil, or simply with butter and cheese.\\n\\n### Tips:\\n- **Flour Types**: \\\"00\\\" flour is preferred for its fine texture, but all-purpose flour works well too.\\n- **Resting the Dough**: Resting is crucial for gluten development, making the dough easier to roll out.\\n- **Storing**: Fresh pasta can be dried for later use or stored in the refrigerator for a couple of days.\\n\\nEnjoy your homemade Italian pasta!\",\n",
      "        \"generation_info\": {\n",
      "          \"finish_reason\": \"stop\"\n",
      "        },\n",
      "        \"type\": \"ChatGeneration\",\n",
      "        \"message\": {\n",
      "          \"lc\": 1,\n",
      "          \"type\": \"constructor\",\n",
      "          \"id\": [\n",
      "            \"langchain\",\n",
      "            \"schema\",\n",
      "            \"messages\",\n",
      "            \"AIMessage\"\n",
      "          ],\n",
      "          \"kwargs\": {\n",
      "            \"content\": \"Making Italian pasta from scratch is a rewarding process! Here’s a simple recipe for fresh pasta:\\n\\n### Ingredients:\\n- 2 cups all-purpose flour (or \\\"00\\\" flour for a more authentic texture)\\n- 3 large eggs\\n- A pinch of salt\\n- A little water (if needed)\\n\\n### Instructions:\\n\\n#### 1. Prepare the Dough:\\n- **Make a Flour Well**: On a clean surface or in a large bowl, mound the flour and make a well in the center. Add a pinch of salt.\\n- **Add Eggs**: Crack the eggs into the well. Using a fork, beat the eggs gently, then gradually incorporate the flour from the edges of the well until the mixture is too stiff to mix with a fork.\\n  \\n#### 2. Knead the Dough:\\n- **Bring Together**: Use your hands to bring the dough together. If it’s too dry, add a little water; if it’s too sticky, sprinkle with a bit more flour.\\n- **Knead**: Knead the dough for about 8-10 minutes until it’s smooth and elastic. Wrap it in plastic wrap and let it rest for at least 30 minutes at room temperature.\\n\\n#### 3. Roll Out the Dough:\\n- **Divide the Dough**: Cut the rested dough into four pieces. Keep the pieces you’re not using covered to prevent them from drying out.\\n- **Flatten and Roll**: Using a rolling pin or a pasta machine, roll out one piece of dough at a time to your desired thickness (usually about 1/16 inch for thin pasta). Dust with flour as needed to prevent sticking.\\n\\n#### 4. Cut the Pasta:\\n- **Shape the Pasta**: You can cut the rolled-out dough into various shapes:\\n  - **Tagliatelle**: Roll the sheet loosely and slice it into strips.\\n  - **Fettuccine**: Cut into wider strips.\\n  - **Lasagna**: Cut into rectangles.\\n  - **Pappardelle**: Cut into wider, thicker strips.\\n  \\n#### 5. Cook the Pasta:\\n- **Boil Water**: Bring a large pot of salted water to a boil.\\n- **Cook**: Add the fresh pasta and cook for 2-4 minutes, depending on the thickness. Fresh pasta cooks much faster than dried pasta.\\n- **Taste Test**: Check for doneness; it should be al dente.\\n\\n#### 6. Serve:\\n- Drain the pasta and toss it with your favorite sauce, olive oil, or simply with butter and cheese.\\n\\n### Tips:\\n- **Flour Types**: \\\"00\\\" flour is preferred for its fine texture, but all-purpose flour works well too.\\n- **Resting the Dough**: Resting is crucial for gluten development, making the dough easier to roll out.\\n- **Storing**: Fresh pasta can be dried for later use or stored in the refrigerator for a couple of days.\\n\\nEnjoy your homemade Italian pasta!\",\n",
      "            \"additional_kwargs\": {}\n",
      "          }\n",
      "        }\n",
      "      }\n",
      "    ]\n",
      "  ],\n",
      "  \"llm_output\": {\n",
      "    \"token_usage\": {\n",
      "      \"prompt_tokens\": 13,\n",
      "      \"completion_tokens\": 609,\n",
      "      \"total_tokens\": 622\n",
      "    },\n",
      "    \"model_name\": \"gpt-4o-mini-2024-07-18\",\n",
      "    \"system_fingerprint\": \"fp_f33667828e\"\n",
      "  },\n",
      "  \"run\": null\n",
      "}\n"
     ]
    },
    {
     "data": {
      "text/plain": [
       "'Making Italian pasta from scratch is a rewarding process! Here’s a simple recipe for fresh pasta:\\n\\n### Ingredients:\\n- 2 cups all-purpose flour (or \"00\" flour for a more authentic texture)\\n- 3 large eggs\\n- A pinch of salt\\n- A little water (if needed)\\n\\n### Instructions:\\n\\n#### 1. Prepare the Dough:\\n- **Make a Flour Well**: On a clean surface or in a large bowl, mound the flour and make a well in the center. Add a pinch of salt.\\n- **Add Eggs**: Crack the eggs into the well. Using a fork, beat the eggs gently, then gradually incorporate the flour from the edges of the well until the mixture is too stiff to mix with a fork.\\n  \\n#### 2. Knead the Dough:\\n- **Bring Together**: Use your hands to bring the dough together. If it’s too dry, add a little water; if it’s too sticky, sprinkle with a bit more flour.\\n- **Knead**: Knead the dough for about 8-10 minutes until it’s smooth and elastic. Wrap it in plastic wrap and let it rest for at least 30 minutes at room temperature.\\n\\n#### 3. Roll Out the Dough:\\n- **Divide the Dough**: Cut the rested dough into four pieces. Keep the pieces you’re not using covered to prevent them from drying out.\\n- **Flatten and Roll**: Using a rolling pin or a pasta machine, roll out one piece of dough at a time to your desired thickness (usually about 1/16 inch for thin pasta). Dust with flour as needed to prevent sticking.\\n\\n#### 4. Cut the Pasta:\\n- **Shape the Pasta**: You can cut the rolled-out dough into various shapes:\\n  - **Tagliatelle**: Roll the sheet loosely and slice it into strips.\\n  - **Fettuccine**: Cut into wider strips.\\n  - **Lasagna**: Cut into rectangles.\\n  - **Pappardelle**: Cut into wider, thicker strips.\\n  \\n#### 5. Cook the Pasta:\\n- **Boil Water**: Bring a large pot of salted water to a boil.\\n- **Cook**: Add the fresh pasta and cook for 2-4 minutes, depending on the thickness. Fresh pasta cooks much faster than dried pasta.\\n- **Taste Test**: Check for doneness; it should be al dente.\\n\\n#### 6. Serve:\\n- Drain the pasta and toss it with your favorite sauce, olive oil, or simply with butter and cheese.\\n\\n### Tips:\\n- **Flour Types**: \"00\" flour is preferred for its fine texture, but all-purpose flour works well too.\\n- **Resting the Dough**: Resting is crucial for gluten development, making the dough easier to roll out.\\n- **Storing**: Fresh pasta can be dried for later use or stored in the refrigerator for a couple of days.\\n\\nEnjoy your homemade Italian pasta!'"
      ]
     },
     "execution_count": 11,
     "metadata": {},
     "output_type": "execute_result"
    }
   ],
   "source": [
    "from langchain.chat_models import ChatOpenAI\n",
    "from langchain.callbacks import StreamingStdOutCallbackHandler\n",
    "from langchain.globals import set_llm_cache, set_debug\n",
    "from langchain.cache import InMemoryCache, SQLiteCache\n",
    "\n",
    "set_llm_cache(InMemoryCache)\n",
    "\n",
    "### 데이터베이스에 저장하고 싶을 때\n",
    "set_llm_cache(SQLiteCache(\"cache.db\"))\n",
    "\n",
    "set_debug(True)\n",
    "\n",
    "chat = ChatOpenAI(\n",
    "    model_name='gpt-4o-mini-2024-07-18', \n",
    "    temperature=0.1,\n",
    "    # streaming=True,\n",
    "    # callbacks=[\n",
    "    #     StreamingStdOutCallbackHandler(),\n",
    "    # ],\n",
    ")\n",
    "\n",
    "chat.predict(\"How do you make italian pasta\")\n"
   ]
  },
  {
   "cell_type": "code",
   "execution_count": null,
   "metadata": {},
   "outputs": [],
   "source": [
    "chat.predict(\"How do you make italian pasta\")"
   ]
  }
 ],
 "metadata": {
  "kernelspec": {
   "display_name": "MHAInstaller",
   "language": "python",
   "name": "python3"
  },
  "language_info": {
   "codemirror_mode": {
    "name": "ipython",
    "version": 3
   },
   "file_extension": ".py",
   "mimetype": "text/x-python",
   "name": "python",
   "nbconvert_exporter": "python",
   "pygments_lexer": "ipython3",
   "version": "3.11.6"
  }
 },
 "nbformat": 4,
 "nbformat_minor": 2
}
